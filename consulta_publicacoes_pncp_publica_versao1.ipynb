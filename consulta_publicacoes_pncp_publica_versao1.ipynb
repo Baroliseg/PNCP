{
 "cells": [
  {
   "cell_type": "markdown",
   "id": "bb5f25f3",
   "metadata": {},
   "source": [
    "## APLICAÇÃO PARA CONSULTAR LICITAÇÕES PUBLICADAS NO PNCP (versão1)\n",
    "### Faz a busca de todos os pregões eletrônicos por estado e data de publicação;\n",
    "#### Filtra as licitações cujo objeto possui alguma/algumas das palavras definidas e salva tudo em Excel, tanto a pesquisa geral quanto a filtrada por palavra chave. ***A aplicação consulta os últimos 500 editais, divididos em páginas de 50 editais por estado.***\n",
    "\n",
    "###### Como usar:\n",
    "        1. Ajuste de data (intervalo de tempo para pesquisa); \n",
    "        2. Defina as UFs; \n",
    "        3. Defina as palvras-chave (palavras_chave);\n",
    "        4. Se necessário, mude o código da modalidade (padrão 6: pregão eletrônico);"
   ]
  },
  {
   "cell_type": "markdown",
   "id": "934e6e66",
   "metadata": {},
   "source": [
    "### Dados do Portal Nacional de Compras Públicas (PNCP):\n",
    "* **A Nova Lei de Licitações 14.133/2021 exige que todos os órgãos da administração pública centralizem as informações de suas contratações em um portal nacional. Com acesso a esse portal através da API, nossa aplicação busca oportunidades de negócios verificando as licitações publicadas.** O processo envolve:\n",
    "\n",
    "### Contribuições:\n",
    "* Contribuições são bem-vindas! Sinta-se à vontade para abrir issues ou enviar pull requests para melhorias e novas funcionalidades.\n",
    "\n",
    "***Com esta aplicação, esperamos facilitar o trabalho dos profissionais que buscam oportunidades de negócios em licitações públicas, oferecendo uma solução automatizada e eficiente para a consulta e análise de pregões eletrônicos.***"
   ]
  },
  {
   "cell_type": "code",
   "execution_count": 2,
   "id": "17f1362b",
   "metadata": {},
   "outputs": [],
   "source": [
    "# importando os módulos \n",
    "import pandas as pd\n",
    "import requests\n",
    "import json\n",
    "from datetime import datetime\n",
    "from dateutil.relativedelta import relativedelta\n",
    "import matplotlib.pyplot as plt\n",
    "plt.style.use('ggplot')\n",
    "import seaborn as sns"
   ]
  },
  {
   "cell_type": "code",
   "execution_count": 3,
   "id": "c68a96ee",
   "metadata": {},
   "outputs": [],
   "source": [
    "# parâmetros - pesquisa por data de publicação \n",
    "\n",
    "data_inicial = 20240625\n",
    "data_final = 20240626\n",
    "codigo_modalidade = 6 # pregão eletrônico\n",
    "codigo_municipio_ibge = '' \n",
    "cnpj = ''  \n",
    "codigo_unidade_administrativa = '' \n",
    "tamanho_pagina = 50"
   ]
  },
  {
   "cell_type": "code",
   "execution_count": 4,
   "id": "80929781",
   "metadata": {},
   "outputs": [],
   "source": [
    "# URL para pesquisa de processos publicados - somente com os parâmetros obrigatórios:\n",
    "# páginas 1 A[a] 10\n",
    "\n",
    "base_url = 'https://pncp.gov.br/api/consulta/v1/contratacoes/publicacao'\n",
    "tamanho_pagina = 50  # Defina o tamanho da página conforme necessário\n",
    "urls = []\n",
    "\n",
    "for pagina in range(1, 11):  \n",
    "    for uf in ['PE', 'PB', 'AL', 'SE', 'BA', 'RN', 'CE']:  \n",
    "        url = f'{base_url}?dataInicial={data_inicial}&dataFinal={data_final}&codigoModalidadeContratacao={codigo_modalidade}&uf={uf}&tamanhoPagina={tamanho_pagina}&pagina={pagina}'\n",
    "        urls.append(url)"
   ]
  },
  {
   "cell_type": "markdown",
   "id": "372a2ab9",
   "metadata": {},
   "source": [
    "# requisitando \n",
    "\n",
    "response1 = requests.get(url_padrao1)\n",
    "response2 = requests.get(url_padrao2)\n",
    "response3 = requests.get(url_padrao3)\n",
    "response4 = requests.get(url_padrao4)\n",
    "response5 = requests.get(url_padrao5)\n",
    "response6 = requests.get(url_padrao6)"
   ]
  },
  {
   "cell_type": "code",
   "execution_count": null,
   "id": "c1ba3713",
   "metadata": {
    "scrolled": true
   },
   "outputs": [
    {
     "name": "stdout",
     "output_type": "stream",
     "text": [
      "Erro na requisição para https://pncp.gov.br/api/consulta/v1/contratacoes/publicacao?dataInicial=20240625&dataFinal=20240626&codigoModalidadeContratacao=6&uf=AL&tamanhoPagina=50&pagina=1: 200 - {\"data\":[{\"modalidadeId\":6,\"srp\":false,\"anoCompra\":2024,\"sequencialCompra\":616,\"orgaoSubRogado\":null,\"orgaoEntidade\":{\"cnpj\":\"00394494000136\",\"razaoSocial\":\"MINISTERIO DA JUSTICA E SEGURANCA PUBLICA\",\"poderId\":\"E\",\"esferaId\":\"F\"},\"dataInclusao\":\"2024-06-25T07:09:09\",\"dataPublicacaoPncp\":\"2024-06-25T07:09:09\",\"dataAtualizacao\":\"2024-06-25T07:09:09\",\"numeroCompra\":\"90005\",\"unidadeOrgao\":{\"ufNome\":\"Alagoas\",\"codigoUnidade\":\"200358\",\"nomeUnidade\":\"SUPERINTENDENCIA REG.DEP.POLICIA FEDERAL - AL\",\"ufSigla\":\"AL\",\"municipioNome\":\"Maceió\",\"codigoIbge\":\"2704302\"},\"amparoLegal\":{\"codigo\":1,\"descricao\":\"pregão: modalidade de licitação obrigatória para aquisição de bens e serviços comuns\",\"nome\":\"Lei 14.133/2021, Art. 28, I\"},\"dataAberturaProposta\":\"2024-06-25T08:00:00\",\"dataEncerramentoProposta\":\"2024-07-16T09:00:00\",\"informacaoComplementar\":\" Para as respostas de esclarecimentos e impugnações deste edital acesse o link: https://cnetmobile.estaleiro.serpro.gov.br/comprasnet-web/public/landing?destino=quadro-informativo&compra=20035805900052024\",\"processo\":\"08230002928202411\",\"objetoCompra\":\"Contratação de serviços de RECEPÇÃO, a serem executados com regime de dedicação exclusiva de mão de obra, conforme condições e exigências estabelecidas no Edital da Licitação e seus anexos.\",\"linkSistemaOrigem\":\"https://cnetmobile.estaleiro.serpro.gov.br/comprasnet-web/public/landing?destino=acompanhamento-compra&compra=20035805900052024\",\"justificativaPresencial\":null,\"unidadeSubRogada\":null,\"valorTotalHomologado\":null,\"tipoInstrumentoConvocatorioCodigo\":1,\"tipoInstrumentoConvocatorioNome\":\"Edital\",\"situacaoCompraId\":1,\"situacaoCompraNome\":\"Divulgada no PNCP\",\"modoDisputaId\":1,\"numeroControlePNCP\":\"00394494000136-1-000616/2024\",\"valorTotalEstimado\":1267548.3600,\"modalidadeNome\":\"Pregão - Eletrônico\",\"modoDisputaNome\":\"Aberto\",\"usuarioNome\":\"Compras.gov.br\"},{\"modalidadeId\":6,\"srp\":true,\"anoCompra\":2024,\"sequencialCompra\":12,\"orgaoSubRogado\":null,\"orgaoEntidade\":{\"cnpj\":\"12262739000150\",\"razaoSocial\":\"MUNICIPIO DE JOAQUIM GOMES\",\"poderId\":\"N\",\"esferaId\":\"M\"},\"dataInclusao\":\"2024-06-25T08:40:08\",\"dataPublicacaoPncp\":\"2024-06-25T08:40:08\",\"dataAtualizacao\":\"2024-06-25T08:40:08\",\"numeroCompra\":\"09\",\"unidadeOrgao\":{\"ufNome\":\"Alagoas\",\"codigoUnidade\":\"1\",\"nomeUnidade\":\"PREFEITURA MUNICIPAL DE JOAQUIM GOMES\",\"ufSigla\":\"AL\",\"municipioNome\":\"Joaquim Gomes\",\"codigoIbge\":\"2703809\"},\"amparoLegal\":{\"codigo\":1,\"descricao\":\"pregão: modalidade de licitação obrigatória para aquisição de bens e serviços comuns\",\"nome\":\"Lei 14.133/2021, Art. 28, I\"},\"dataAberturaProposta\":\"2024-06-19T17:00:00\",\"dataEncerramentoProposta\":\"2024-07-05T08:30:00\",\"informacaoComplementar\":null,\"processo\":\"20240521007\",\"objetoCompra\":\"Registro de Preços para aquisição de luminárias de led para iluminação pública\",\"linkSistemaOrigem\":\"https://bnccompras.com/Process/ProcessView?param1=[gkz]DYniGWC1DVgQqxvKokwGbWisRRe84rCIsJMtQT9GHSJP8h55WAZ4bKIscJdjB3xSqbsx9ugZ1N9ul_e4pEj6wIqxy/DNWcA4eydabyWi6oM=\",\"justificativaPresencial\":null,\"unidadeSubRogada\":null,\"valorTotalHomologado\":null,\"tipoInstrumentoConvocatorioCodigo\":1,\"tipoInstrumentoConvocatorioNome\":\"Edital\",\"situacaoCompraId\":1,\"situacaoCompraNome\":\"Divulgada no PNCP\",\"modoDisputaId\":1,\"numeroControlePNCP\":\"12262739000150-1-000012/2024\",\"valorTotalEstimado\":133931.0000,\"modalidadeNome\":\"Pregão - Eletrônico\",\"modoDisputaNome\":\"Aberto\",\"usuarioNome\":\"Bolsa Nacional De Compras - BNC\"},{\"modalidadeId\":6,\"srp\":true,\"anoCompra\":2024,\"sequencialCompra\":14,\"orgaoSubRogado\":null,\"orgaoEntidade\":{\"cnpj\":\"12250999000106\",\"razaoSocial\":\"MUNICIPIO DE JACARE DOS HOMENS\",\"poderId\":\"N\",\"esferaId\":\"M\"},\"dataInclusao\":\"2024-06-25T10:07:41\",\"dataPublicacaoPncp\":\"2024-06-25T10:07:41\",\"dataAtualizacao\":\"2024-06-25T10:07:41\",\"numeroCompra\":\"05\",\"unidadeOrgao\":{\"ufNome\":\"Alagoas\",\"codigoUnidade\":\"1\",\"nomeUnidade\":\"MUNICIPIO DE JACARE DOS HOMENS\",\"ufSigla\":\"AL\",\"municipioNome\":\"Jacaré dos Homens\",\"codigoIbge\":\"2703403\"},\"amparoLegal\":{\"codigo\":1,\"descricao\":\"pregão: modalidade de licitação obrigatória para aquisição de bens e serviços comuns\",\"nome\":\"Lei 14.133/2021, Art. 28, I\"},\"dataAberturaProposta\":\"2024-06-25T10:30:00\",\"dataEncerramentoProposta\":\"2024-07-05T09:00:00\",\"informacaoComplementar\":null,\"processo\":\"05060002\",\"objetoCompra\":\"REGISTRO DE PREÇOS de prestação de serviços parcelados com LOCAÇÃO DE VEÍCULOS (LEVES, PESADOS E MÁQUINAS), para o Município de Jacaré dos Homens, Estado de Alagoas.\",\"linkSistemaOrigem\":\"https://bnccompras.com/Process/ProcessView?param1=[gkz]AGuyppzljxXCQrBZCKeDOCFgAZFOascpxDa7w6tCMAebhGSuhrO69kFWjXD2sLzDANFodelt1nT0yuTeC6y190g4P62dsQQAmONxsDxmyKM=\",\"justificativaPresencial\":null,\"unidadeSubRogada\":null,\"valorTotalHomologado\":null,\"tipoInstrumentoConvocatorioCodigo\":1,\"tipoInstrumentoConvocatorioNome\":\"Edital\",\"situacaoCompraId\":1,\"situacaoCompraNome\":\"Divulgada no PNCP\",\"modoDisputaId\":1,\"numeroControlePNCP\":\"12250999000106-1-000014/2024\",\"valorTotalEstimado\":16746880.5600,\"modalidadeNome\":\"Pregão - Eletrônico\",\"modoDisputaNome\":\"Aberto\",\"usuarioNome\":\"Bolsa Nacional De Compras - BNC\"},{\"modalidadeId\":6,\"srp\":true,\"anoCompra\":2024,\"sequencialCompra\":65,\"orgaoSubRogado\":null,\"orgaoEntidade\":{\"cnpj\":\"12264396000163\",\"razaoSocial\":\"MUNICIPIO DE BOCA DA MATA\",\"poderId\":\"N\",\"esferaId\":\"M\"},\"dataInclusao\":\"2024-06-25T10:30:18\",\"dataPublicacaoPncp\":\"2024-06-25T10:30:18\",\"dataAtualizacao\":\"2024-06-25T10:30:18\",\"numeroCompra\":\"22\",\"unidadeOrgao\":{\"ufNome\":\"Alagoas\",\"codigoUnidade\":\"1\",\"nomeUnidade\":\"PREFEITURA MUNICIPAL DE BOCA DA MATA\",\"ufSigla\":\"AL\",\"municipioNome\":\"Boca da Mata\",\"codigoIbge\":\"2701001\"},\"amparoLegal\":{\"codigo\":1,\"descricao\":\"pregão: modalidade de licitação obrigatória para aquisição de bens e serviços comuns\",\"nome\":\"Lei 14.133/2021, Art. 28, I\"},\"dataAberturaProposta\":\"2024-06-25T10:30:00\",\"dataEncerramentoProposta\":\"2024-07-15T09:00:00\",\"informacaoComplementar\":null,\"processo\":\"05030027/2024\",\"objetoCompra\":\"REGISTRO DE PREÇOS PARA FUTURA E EVENTUAL AQUISIÇÃO DE GÊNEROS ALIMENTÍCIOS DESTINADOS À MERENDA ESCOLAR - 2024, PARA ATENDER ÀS NECESSIDADES DA SECRETARIA MUNICIPAL DE EDUCAÇÃO.\",\"linkSistemaOrigem\":\"https://bnccompras.com/Process/ProcessView?param1=[gkz]wrluHQDIb3oeBwSnlQlUDLQFrxdP/LoZ9bW1z8goY7aWTsai9kDEey0B7nUhv0GvNPZ1CE/2iRB5MQMyNwhPaY8NDUaS3k_qkTs/F0Y/Sss=\",\"justificativaPresencial\":null,\"unidadeSubRogada\":null,\"valorTotalHomologado\":null,\"tipoInstrumentoConvocatorioCodigo\":1,\"tipoInstrumentoConvocatorioNome\":\"Edital\",\"situacaoCompraId\":1,\"situacaoCompraNome\":\"Divulgada no PNCP\",\"modoDisputaId\":1,\"numeroControlePNCP\":\"12264396000163-1-000065/2024\",\"valorTotalEstimado\":1821907.3300,\"modalidadeNome\":\"Pregão - Eletrônico\",\"modoDisputaNome\":\"Aberto\",\"usuarioNome\":\"Bolsa Nacional De Compras - BNC\"},{\"modalidadeId\":6,\"srp\":true,\"anoCompra\":2024,\"sequencialCompra\":54,\"orgaoSubRogado\":null,\"orgaoEntidade\":{\"cnpj\":\"12332953000136\",\"razaoSocial\":\"MUNICIPIO DE MURICI\",\"poderId\":\"N\",\"esferaId\":\"M\"},\"dataInclusao\":\"2024-06-25T11:02:12\",\"dataPublicacaoPncp\":\"2024-06-25T11:02:12\",\"dataAtualizacao\":\"2024-06-25T11:02:12\",\"numeroCompra\":\"02.1\",\"unidadeOrgao\":{\"ufNome\":\"Alagoas\",\"codigoUnidade\":\"1\",\"nomeUnidade\":\"PREFEITURA MUNICIPAL DE MURICI\",\"ufSigla\":\"AL\",\"municipioNome\":\"Murici\",\"codigoIbge\":\"2705507\"},\"amparoLegal\":{\"codigo\":1,\"descricao\":\"pregão: modalidade de licitação obrigatória para aquisição de bens e serviços comuns\",\"nome\":\"Lei 14.133/2021, Art. 28, I\"},\"dataAberturaProposta\":\"2024-06-26T08:00:00\",\"dataEncerramentoProposta\":\"2024-07-09T09:45:00\",\"informacaoComplementar\":null,\"processo\":\"0412/2024\",\"objetoCompra\":\"Registro de preços para eventual e futura aquisição de veículos, conforme termo de referência (veículo tipo micro ônibus)\",\"linkSistemaOrigem\":\"https://bnccompras.com/Process/ProcessView?param1=[gkz]gXwmnVQebsGHghzJiKGVVMnWZfvAfFIflADpztUwMHVWzfeuv1oMDYPsvrFEAnwH6DUpm0lele_cXJ7KSJKJpTz9soncyb9zD6MS1sE6vbA=\",\"justificativaPresencial\":null,\"unidadeSubRogada\":null,\"valorTotalHomologado\":null,\"tipoInstrumentoConvocatorioCodigo\":1,\"tipoInstrumentoConvocatorioNome\":\"Edital\",\"situacaoCompraId\":1,\"situacaoCompraNome\":\"Divulgada no PNCP\",\"modoDisputaId\":1,\"numeroControlePNCP\":\"12332953000136-1-000054/2024\",\"valorTotalEstimado\":1106500.0000,\"modalidadeNome\":\"Pregão - Eletrônico\",\"modoDisputaNome\":\"Aberto\",\"usuarioNome\":\"Bolsa Nacional De Compras - BNC\"},{\"modalidadeId\":6,\"srp\":true,\"anoCompra\":2024,\"sequencialCompra\":66,\"orgaoSubRogado\":null,\"orgaoEntidade\":{\"cnpj\":\"12264396000163\",\"razaoSocial\":\"MUNICIPIO DE BOCA DA MATA\",\"poderId\":\"N\",\"esferaId\":\"M\"},\"dataInclusao\":\"2024-06-25T11:08:07\",\"dataPublicacaoPncp\":\"2024-06-25T11:08:07\",\"dataAtualizacao\":\"2024-06-25T11:08:07\",\"numeroCompra\":\"17/2024-2ªCH\",\"unidadeOrgao\":{\"ufNome\":\"Alagoas\",\"codigoUnidade\":\"1\",\"nomeUnidade\":\"PREFEITURA MUNICIPAL DE BOCA DA MATA\",\"ufSigla\":\"AL\",\"municipioNome\":\"Boca da Mata\",\"codigoIbge\":\"2701001\"},\"amparoLegal\":{\"codigo\":1,\"descricao\":\"pregão: modalidade de licitação obrigatória para aquisição de bens e serviços comuns\",\"nome\":\"Lei 14.133/2021, Art. 28, I\"},\"dataAberturaProposta\":\"2024-06-25T11:00:00\",\"dataEncerramentoProposta\":\"2024-07-16T09:00:00\",\"informacaoComplementar\":null,\"processo\":\"03140009/2024\",\"objetoCompra\":\"REGISTRO DE PREÇOS PARA FUTURA E EVENTUAL CONTRATAÇÃO DE EMPRESA PARA AQUISIÇÃO DE MATERIAIS ESPORTIVOS PARA ATENDER ÀS NECESSIDADES DA SECRETARIA MUNICIPAL DE EDUCAÇÃO.\",\"linkSistemaOrigem\":\"https://bnccompras.com/Process/ProcessView?param1=[gkz]wsFTv8rK5jknR3x1ysJw2Uc/V0Dxw_TQVkiyTVsPOjM77ErQJCjFr2CdcBO3v_IDYWJRTnay/_CNPHM4sa6ruFm7PFBiJn3qC_jlBEX2eLQ=\",\"justificativaPresencial\":null,\"unidadeSubRogada\":null,\"valorTotalHomologado\":null,\"tipoInstrumentoConvocatorioCodigo\":1,\"tipoInstrumentoConvocatorioNome\":\"Edital\",\"situacaoCompraId\":1,\"situacaoCompraNome\":\"Divulgada no PNCP\",\"modoDisputaId\":1,\"numeroControlePNCP\":\"12264396000163-1-000066/2024\",\"valorTotalEstimado\":141127.7200,\"modalidadeNome\":\"Pregão - Eletrônico\",\"modoDisputaNome\":\"Aberto\",\"usuarioNome\":\"Bolsa Nacional De Compras - BNC\"},{\"modalidadeId\":6,\"srp\":true,\"anoCompra\":2024,\"sequencialCompra\":67,\"orgaoSubRogado\":null,\"orgaoEntidade\":{\"cnpj\":\"12264396000163\",\"razaoSocial\":\"MUNICIPIO DE BOCA DA MATA\",\"poderId\":\"N\",\"esferaId\":\"M\"},\"dataInclusao\":\"2024-06-25T11:08:52\",\"dataPublicacaoPncp\":\"2024-06-25T11:08:52\",\"dataAtualizacao\":\"2024-06-25T11:08:52\",\"numeroCompra\":\"18/2024-2ªCH\",\"unidadeOrgao\":{\"ufNome\":\"Alagoas\",\"codigoUnidade\":\"1\",\"nomeUnidade\":\"PREFEITURA MUNICIPAL DE BOCA DA MATA\",\"ufSigla\":\"AL\",\"municipioNome\":\"Boca da Mata\",\"codigoIbge\":\"2701001\"},\"amparoLegal\":{\"codigo\":1,\"descricao\":\"pregão: modalidade de licitação obrigatória para aquisição de bens e serviços comuns\",\"nome\":\"Lei 14.133/2021, Art. 28, I\"},\"dataAberturaProposta\":\"2024-06-25T11:00:00\",\"dataEncerramentoProposta\":\"2024-07-15T10:00:00\",\"informacaoComplementar\":null,\"processo\":\"031400009/2024\",\"objetoCompra\":\"REGISTRO DE PREÇOS PARA FUTURA E EVENTUAL CONTRATAÇÃO DE EMPRESA ESPECIALIZADA NO FORNECIMENTO DE RESMAS DE PAPEL A4 – 2024, PARA ATENDER ÀS NECESSIDADES DA SECRETARIA MUNICIPAL DE ADMINISTRAÇÃO.\",\"linkSistemaOrigem\":\"https://bnccompras.com/Process/ProcessView?param1=[gkz]WLm2uPI78P7OL8bCXwRL/jw7UHn4CAyq3/4I/oEO5XrCXyUMwUF5U2dA_dayE2XP1VJNoe6uTErM0I88f98hdxyz/cm5n_2PNlkgdQGZQdk=\",\"justificativaPresencial\":null,\"unidadeSubRogada\":null,\"valorTotalHomologado\":null,\"tipoInstrumentoConvocatorioCodigo\":1,\"tipoInstrumentoConvocatorioNome\":\"Edital\",\"situacaoCompraId\":1,\"situacaoCompraNome\":\"Divulgada no PNCP\",\"modoDisputaId\":1,\"numeroControlePNCP\":\"12264396000163-1-000067/2024\",\"valorTotalEstimado\":375037.0000,\"modalidadeNome\":\"Pregão - Eletrônico\",\"modoDisputaNome\":\"Aberto\",\"usuarioNome\":\"Bolsa Nacional De Compras - BNC\"},{\"modalidadeId\":6,\"srp\":false,\"anoCompra\":2024,\"sequencialCompra\":55,\"orgaoSubRogado\":null,\"orgaoEntidade\":{\"cnpj\":\"12332953000136\",\"razaoSocial\":\"MUNICIPIO DE MURICI\",\"poderId\":\"N\",\"esferaId\":\"M\"},\"dataInclusao\":\"2024-06-25T11:42:09\",\"dataPublicacaoPncp\":\"2024-06-25T11:42:09\",\"dataAtualizacao\":\"2024-06-25T11:42:09\",\"numeroCompra\":\"09\",\"unidadeOrgao\":{\"ufNome\":\"Alagoas\",\"codigoUnidade\":\"1\",\"nomeUnidade\":\"PREFEITURA MUNICIPAL DE MURICI\",\"ufSigla\":\"AL\",\"municipioNome\":\"Murici\",\"codigoIbge\":\"2705507\"},\"amparoLegal\":{\"codigo\":1,\"descricao\":\"pregão: modalidade de licitação obrigatória para aquisição de bens e serviços comuns\",\"nome\":\"Lei 14.133/2021, Art. 28, I\"},\"dataAberturaProposta\":\"2024-06-26T08:00:00\",\"dataEncerramentoProposta\":\"2024-07-09T08:50:00\",\"informacaoComplementar\":null,\"processo\":\"0891/2024\",\"objetoCompra\":\"Contratação de empresa especializada na area de análise de dados para Business Intelligence, incluindo atualização, conforme condições, quantidades e exigências estabelecidas neste Edital e seus anexos\",\"linkSistemaOrigem\":\"https://bnccompras.com/Process/ProcessView?param1=[gkz]Ny2Yb266d_FS8FD9W_3s86KsXX8DdT_2ItxU/OPOmSpKUv4RknrofMRtdG/it5zNy9ioVzCM2nV/fPEIkOP5w63HHOLDYJmqEGOJLJdf4Mc=\",\"justificativaPresencial\":null,\"unidadeSubRogada\":null,\"valorTotalHomologado\":null,\"tipoInstrumentoConvocatorioCodigo\":1,\"tipoInstrumentoConvocatorioNome\":\"Edital\",\"situacaoCompraId\":1,\"situacaoCompraNome\":\"Divulgada no PNCP\",\"modoDisputaId\":3,\"numeroControlePNCP\":\"12332953000136-1-000055/2024\",\"valorTotalEstimado\":1197000.0000,\"modalidadeNome\":\"Pregão - Eletrônico\",\"modoDisputaNome\":\"Aberto-Fechado\",\"usuarioNome\":\"Bolsa Nacional De Compras - BNC\"},{\"modalidadeId\":6,\"srp\":true,\"anoCompra\":2024,\"sequencialCompra\":58,\"orgaoSubRogado\":null,\"orgaoEntidade\":{\"cnpj\":\"12247631000199\",\"razaoSocial\":\"MUNICIPIO DE SAO SEBASTIAO\",\"poderId\":\"N\",\"esferaId\":\"M\"},\"dataInclusao\":\"2024-06-25T12:42:34\",\"dataPublicacaoPncp\":\"2024-06-25T12:42:34\",\"dataAtualizacao\":\"2024-06-25T12:42:34\",\"numeroCompra\":\"14\",\"unidadeOrgao\":{\"ufNome\":\"Alagoas\",\"codigoUnidade\":\"1\",\"nomeUnidade\":\"PREFEITURA MUNICIPAL DE SÃO SEBASTIÃO\",\"ufSigla\":\"AL\",\"municipioNome\":\"São Sebastião\",\"codigoIbge\":\"2708808\"},\"amparoLegal\":{\"codigo\":1,\"descricao\":\"pregão: modalidade de licitação obrigatória para aquisição de bens e serviços comuns\",\"nome\":\"Lei 14.133/2021, Art. 28, I\"},\"dataAberturaProposta\":\"2024-06-26T11:33:00\",\"dataEncerramentoProposta\":\"2024-07-10T08:59:00\",\"informacaoComplementar\":null,\"processo\":\"69/2024\",\"objetoCompra\":\"REGISTRO DE PREÇOS PARA AQUISIÇÃO DE INSUMOS ODONTOLÓGICOS\",\"linkSistemaOrigem\":\"https://bnccompras.com/Process/ProcessView?param1=[gkz]OqGztHFP0AZ_YeJp_NPf5D7N6tfaHqGOTOWzeKrPYE8Dyxz4Nxpy19ZBC_rMBmPjZqHEQAbNcJ6G84TImDFJjV4zPhN/dQ_sIZmnQXO5UIQ=\",\"justificativaPresencial\":null,\"unidadeSubRogada\":null,\"valorTotalHomologado\":null,\"tipoInstrumentoConvocatorioCodigo\":1,\"tipoInstrumentoConvocatorioNome\":\"Edital\",\"situacaoCompraId\":1,\"situacaoCompraNome\":\"Divulgada no PNCP\",\"modoDisputaId\":1,\"numeroControlePNCP\":\"12247631000199-1-000058/2024\",\"valorTotalEstimado\":1032520.2400,\"modalidadeNome\":\"Pregão - Eletrônico\",\"modoDisputaNome\":\"Aberto\",\"usuarioNome\":\"Bolsa Nacional De Compras - BNC\"},{\"modalidadeId\":6,\"srp\":true,\"anoCompra\":2024,\"sequencialCompra\":11,\"orgaoSubRogado\":null,\"orgaoEntidade\":{\"cnpj\":\"30499757000132\",\"razaoSocial\":\"FUNDO MUNICIPAL DE EDUCACAO DE CAMPO ALEGRE- FME CAMPO ALEGRE\",\"poderId\":\"E\",\"esferaId\":\"M\"},\"dataInclusao\":\"2024-06-25T16:03:28\",\"dataPublicacaoPncp\":\"2024-06-25T16:03:28\",\"dataAtualizacao\":\"2024-06-26T13:42:00\",\"numeroCompra\":\"042\",\"unidadeOrgao\":{\"ufNome\":\"Alagoas\",\"codigoUnidade\":\"30499757000132\",\"nomeUnidade\":\"FUNDO MUNICIPAL DE EDUCAÇÃO DE CAMPO ALEGRE\",\"ufSigla\":\"AL\",\"municipioNome\":\"Campo Alegre\",\"codigoIbge\":\"2701407\"},\"amparoLegal\":{\"codigo\":1,\"descricao\":\"pregão: modalidade de licitação obrigatória para aquisição de bens e serviços comuns\",\"nome\":\"Lei 14.133/2021, Art. 28, I\"},\"dataAberturaProposta\":\"2024-06-26T08:30:00\",\"dataEncerramentoProposta\":\"2024-07-11T09:00:00\",\"informacaoComplementar\":\"\",\"processo\":\"23\",\"objetoCompra\":\"PRESTAÇÃO DE SERVIÇO DE REVESTIMENTO DE PISO DE QUADRA POLIESPORTIVA\",\"linkSistemaOrigem\":null,\"justificativaPresencial\":null,\"unidadeSubRogada\":null,\"valorTotalHomologado\":null,\"tipoInstrumentoConvocatorioCodigo\":1,\"tipoInstrumentoConvocatorioNome\":\"Edital\",\"situacaoCompraId\":1,\"situacaoCompraNome\":\"Divulgada no PNCP\",\"modoDisputaId\":1,\"numeroControlePNCP\":\"30499757000132-1-000011/2024\",\"valorTotalEstimado\":391961.9999,\"modalidadeNome\":\"Pregão - Eletrônico\",\"modoDisputaNome\":\"Aberto\",\"usuarioNome\":\"3Tecnos Tecnologia LTDA\"},{\"modalidadeId\":6,\"srp\":true,\"anoCompra\":2024,\"sequencialCompra\":12,\"orgaoSubRogado\":null,\"orgaoEntidade\":{\"cnpj\":\"30499757000132\",\"razaoSocial\":\"FUNDO MUNICIPAL DE EDUCACAO DE CAMPO ALEGRE- FME CAMPO ALEGRE\",\"poderId\":\"E\",\"esferaId\":\"M\"},\"dataInclusao\":\"2024-06-25T16:03:48\",\"dataPublicacaoPncp\":\"2024-06-25T16:03:48\",\"dataAtualizacao\":\"2024-06-26T13:42:21\",\"numeroCompra\":\"043\",\"unidadeOrgao\":{\"ufNome\":\"Alagoas\",\"codigoUnidade\":\"30499757000132\",\"nomeUnidade\":\"FUNDO MUNICIPAL DE EDUCAÇÃO DE CAMPO ALEGRE\",\"ufSigla\":\"AL\",\"municipioNome\":\"Campo Alegre\",\"codigoIbge\":\"2701407\"},\"amparoLegal\":{\"codigo\":1,\"descricao\":\"pregão: modalidade de licitação obrigatória para aquisição de bens e serviços comuns\",\"nome\":\"Lei 14.133/2021, Art. 28, I\"},\"dataAberturaProposta\":\"2024-06-26T08:30:00\",\"dataEncerramentoProposta\":\"2024-07-09T09:00:00\",\"informacaoComplementar\":\"\",\"processo\":\"24\",\"objetoCompra\":\"AQUISIÇÃO DE FARDAMENTOS ESPECÍFICOS PARA PROJETOS\",\"linkSistemaOrigem\":null,\"justificativaPresencial\":null,\"unidadeSubRogada\":null,\"valorTotalHomologado\":null,\"tipoInstrumentoConvocatorioCodigo\":1,\"tipoInstrumentoConvocatorioNome\":\"Edital\",\"situacaoCompraId\":1,\"situacaoCompraNome\":\"Divulgada no PNCP\",\"modoDisputaId\":1,\"numeroControlePNCP\":\"30499757000132-1-000012/2024\",\"valorTotalEstimado\":666087.5000,\"modalidadeNome\":\"Pregão - Eletrônico\",\"modoDisputaNome\":\"Aberto\",\"usuarioNome\":\"3Tecnos Tecnologia LTDA\"},{\"modalidadeId\":6,\"srp\":true,\"anoCompra\":2024,\"sequencialCompra\":69,\"orgaoSubRogado\":null,\"orgaoEntidade\":{\"cnpj\":\"12367892000142\",\"razaoSocial\":\"MUNICIPIO DE CANAPI\",\"poderId\":\"N\",\"esferaId\":\"M\"},\"dataInclusao\":\"2024-06-25T22:45:16\",\"dataPublicacaoPncp\":\"2024-06-25T22:45:16\",\"dataAtualizacao\":\"2024-06-25T22:45:16\",\"numeroCompra\":\"17\",\"unidadeOrgao\":{\"ufNome\":\"Alagoas\",\"codigoUnidade\":\"1\",\"nomeUnidade\":\"PREFEITURA MUNICIPAL DE CANAPI\",\"ufSigla\":\"AL\",\"municipioNome\":\"Canapi\",\"codigoIbge\":\"2701605\"},\"amparoLegal\":{\"codigo\":1,\"descricao\":\"pregão: modalidade de licitação obrigatória para aquisição de bens e serviços comuns\",\"nome\":\"Lei 14.133/2021, Art. 28, I\"},\"dataAberturaProposta\":\"2024-06-25T23:00:00\",\"dataEncerramentoProposta\":\"2024-07-09T08:30:00\",\"informacaoComplementar\":null,\"processo\":\"220240404005\",\"objetoCompra\":\"Registro de preços para locação de equipamentos de fisioterapia e reabilitação, para atender a demanda da Secretaria Municipal de Saúde do Poder Executivo do Município de Canapi/AL.\",\"linkSistemaOrigem\":\"https://bnccompras.com/Process/ProcessView?param1=[gkz]c97LPYvrtwM//hd0u7zXPF_8qL8HJ_VSTtIPVFuZRR_bXCKc_pPHmQwenodOsWz39Cf_biNDADidCjrh4v53qnTzk1gktkBpnezl/txw6sQ=\",\"justificativaPresencial\":null,\"unidadeSubRogada\":null,\"valorTotalHomologado\":null,\"tipoInstrumentoConvocatorioCodigo\":1,\"tipoInstrumentoConvocatorioNome\":\"Edital\",\"situacaoCompraId\":1,\"situacaoCompraNome\":\"Divulgada no PNCP\",\"modoDisputaId\":3,\"numeroControlePNCP\":\"12367892000142-1-000069/2024\",\"valorTotalEstimado\":552233.2800,\"modalidadeNome\":\"Pregão - Eletrônico\",\"modoDisputaNome\":\"Aberto-Fechado\",\"usuarioNome\":\"Bolsa Nacional De Compras - BNC\"},{\"modalidadeId\":6,\"srp\":false,\"anoCompra\":2024,\"sequencialCompra\":146,\"orgaoSubRogado\":null,\"orgaoEntidade\":{\"cnpj\":\"26474056000171\",\"razaoSocial\":\"INSTITUTO DO PATRIMONIO HISTORICO E ARTISTICO NACIONAL\",\"poderId\":\"E\",\"esferaId\":\"F\"},\"dataInclusao\":\"2024-06-26T07:02:11\",\"dataPublicacaoPncp\":\"2024-06-26T07:02:11\",\"dataAtualizacao\":\"2024-06-26T07:02:11\",\"numeroCompra\":\"90004\",\"unidadeOrgao\":{\"ufNome\":\"Alagoas\",\"codigoUnidade\":\"343035\",\"nomeUnidade\":\"17A SUPERINTENDENCIA REGIONAL\",\"ufSigla\":\"AL\",\"municipioNome\":\"Maceió\",\"codigoIbge\":\"2704302\"},\"amparoLegal\":{\"codigo\":1,\"descricao\":\"pregão: modalidade de licitação obrigatória para aquisição de bens e serviços comuns\",\"nome\":\"Lei 14.133/2021, Art. 28, I\"},\"dataAberturaProposta\":\"2024-06-26T09:00:00\",\"dataEncerramentoProposta\":\"2024-07-10T09:00:00\",\"informacaoComplementar\":\" Para as respostas de esclarecimentos e impugnações deste edital acesse o link: https://cnetmobile.estaleiro.serpro.gov.br/comprasnet-web/public/landing?destino=quadro-informativo&compra=34303505900042024\",\"processo\":\"01403000062202427\",\"objetoCompra\":\"Contratação de empresa para prestação do serviço de Apoio Administrativo e de Motorista conforme condições, quantidades e exigências estabelecidas no Edital e seus anexos.\",\"linkSistemaOrigem\":\"https://cnetmobile.estaleiro.serpro.gov.br/comprasnet-web/public/landing?destino=acompanhamento-compra&compra=34303505900042024\",\"justificativaPresencial\":null,\"unidadeSubRogada\":null,\"valorTotalHomologado\":null,\"tipoInstrumentoConvocatorioCodigo\":1,\"tipoInstrumentoConvocatorioNome\":\"Edital\",\"situacaoCompraId\":1,\"situacaoCompraNome\":\"Divulgada no PNCP\",\"modoDisputaId\":1,\"numeroControlePNCP\":\"26474056000171-1-000146/2024\",\"valorTotalEstimado\":3921580.8000,\"modalidadeNome\":\"Pregão - Eletrônico\",\"modoDisputaNome\":\"Aberto\",\"usuarioNome\":\"Compras.gov.br\"},{\"modalidadeId\":6,\"srp\":false,\"anoCompra\":2024,\"sequencialCompra\":1875,\"orgaoSubRogado\":null,\"orgaoEntidade\":{\"cnpj\":\"00509018000113\",\"razaoSocial\":\"TRIBUNAL SUPERIOR ELEITORAL\",\"poderId\":\"J\",\"esferaId\":\"F\"},\"dataInclusao\":\"2024-06-26T07:07:47\",\"dataPublicacaoPncp\":\"2024-06-26T07:07:47\",\"dataAtualizacao\":\"2024-06-26T07:07:47\",\"numeroCompra\":\"90021\",\"unidadeOrgao\":{\"ufNome\":\"Alagoas\",\"codigoUnidade\":\"070011\",\"nomeUnidade\":\"TRIBUNAL REGIONAL ELEITORAL DE ALAGOAS\",\"ufSigla\":\"AL\",\"municipioNome\":\"Maceió\",\"codigoIbge\":\"2704302\"},\"amparoLegal\":{\"codigo\":1,\"descricao\":\"pregão: modalidade de licitação obrigatória para aquisição de bens e serviços comuns\",\"nome\":\"Lei 14.133/2021, Art. 28, I\"},\"dataAberturaProposta\":\"2024-06-26T08:00:00\",\"dataEncerramentoProposta\":\"2024-07-11T14:00:00\",\"informacaoComplementar\":\" Para as respostas de esclarecimentos e impugnações deste edital acesse o link: https://cnetmobile.estaleiro.serpro.gov.br/comprasnet-web/public/landing?destino=quadro-informativo&compra=07001105900212024\",\"processo\":\"0002224-64.20241\",\"objetoCompra\":\"Contratação de empresa para o fornecimento de material gráfico: I) Lista com o nome e o número das candidatas e dos candidatos registradas(os), para o 1º Turno e II) Lista com o nome e o número das candidatas e dos candidatos registradas(os), para o 2º Turno, os quais serão impressos em papel, conforme condições, quantidades e exigências estabelecidas no Edital e seus anexos.\",\"linkSistemaOrigem\":\"https://cnetmobile.estaleiro.serpro.gov.br/comprasnet-web/public/landing?destino=acompanhamento-compra&compra=07001105900212024\",\"justificativaPresencial\":null,\"unidadeSubRogada\":null,\"valorTotalHomologado\":null,\"tipoInstrumentoConvocatorioCodigo\":1,\"tipoInstrumentoConvocatorioNome\":\"Edital\",\"situacaoCompraId\":1,\"situacaoCompraNome\":\"Divulgada no PNCP\",\"modoDisputaId\":3,\"numeroControlePNCP\":\"00509018000113-1-001875/2024\",\"valorTotalEstimado\":15102.4300,\"modalidadeNome\":\"Pregão - Eletrônico\",\"modoDisputaNome\":\"Aberto-Fechado\",\"usuarioNome\":\"Compras.gov.br\"},{\"modalidadeId\":6,\"srp\":true,\"anoCompra\":2024,\"sequencialCompra\":11434,\"orgaoSubRogado\":null,\"orgaoEntidade\":{\"cnpj\":\"00394452000103\",\"razaoSocial\":\"COMANDO DO EXERCITO\",\"poderId\":\"E\",\"esferaId\":\"F\"},\"dataInclusao\":\"2024-06-26T07:10:29\",\"dataPublicacaoPncp\":\"2024-06-26T07:10:29\",\"dataAtualizacao\":\"2024-06-26T07:10:29\",\"numeroCompra\":\"90123\",\"unidadeOrgao\":{\"ufNome\":\"Alagoas\",\"codigoUnidade\":\"160004\",\"nomeUnidade\":\"59  BATALHAO DE INFANTARIA MOTORIZADO/AL\",\"ufSigla\":\"AL\",\"municipioNome\":\"Maceió\",\"codigoIbge\":\"2704302\"},\"amparoLegal\":{\"codigo\":1,\"descricao\":\"pregão: modalidade de licitação obrigatória para aquisição de bens e serviços comuns\",\"nome\":\"Lei 14.133/2021, Art. 28, I\"},\"dataAberturaProposta\":\"2024-06-26T08:00:00\",\"dataEncerramentoProposta\":\"2024-07-08T08:30:00\",\"informacaoComplementar\":\" Para as respostas de esclarecimentos e impugnações deste edital acesse o link: https://cnetmobile.estaleiro.serpro.gov.br/comprasnet-web/public/landing?destino=quadro-informativo&compra=16000405901232024\",\"processo\":\"64106003232202408\",\"objetoCompra\":\"Aquisição de peças para manutenção de viaturas do 59º BI Mtz\",\"linkSistemaOrigem\":\"https://cnetmobile.estaleiro.serpro.gov.br/comprasnet-web/public/landing?destino=acompanhamento-compra&compra=16000405901232024\",\"justificativaPresencial\":null,\"unidadeSubRogada\":null,\"valorTotalHomologado\":null,\"tipoInstrumentoConvocatorioCodigo\":1,\"tipoInstrumentoConvocatorioNome\":\"Edital\",\"situacaoCompraId\":1,\"situacaoCompraNome\":\"Divulgada no PNCP\",\"modoDisputaId\":1,\"numeroControlePNCP\":\"00394452000103-1-011434/2024\",\"valorTotalEstimado\":222495.1700,\"modalidadeNome\":\"Pregão - Eletrônico\",\"modoDisputaNome\":\"Aberto\",\"usuarioNome\":\"Compras.gov.br\"},{\"modalidadeId\":6,\"srp\":true,\"anoCompra\":2024,\"sequencialCompra\":59,\"orgaoSubRogado\":null,\"orgaoEntidade\":{\"cnpj\":\"12264628000183\",\"razaoSocial\":\"MUNICIPIO DE CAMPO ALEGRE\",\"poderId\":\"N\",\"esferaId\":\"M\"},\"dataInclusao\":\"2024-06-26T09:26:44\",\"dataPublicacaoPncp\":\"2024-06-26T09:26:44\",\"dataAtualizacao\":\"2024-06-26T13:45:39\",\"numeroCompra\":\"044\",\"unidadeOrgao\":{\"ufNome\":\"Alagoas\",\"codigoUnidade\":\"1\",\"nomeUnidade\":\"PREFEITURA MUNICIPAL DE CAMPO ALEGRE\",\"ufSigla\":\"AL\",\"municipioNome\":\"Campo Alegre\",\"codigoIbge\":\"2701407\"},\"amparoLegal\":{\"codigo\":1,\"descricao\":\"pregão: modalidade de licitação obrigatória para aquisição de bens e serviços comuns\",\"nome\":\"Lei 14.133/2021, Art. 28, I\"},\"dataAberturaProposta\":\"2024-06-26T08:30:00\",\"dataEncerramentoProposta\":\"2024-07-09T09:00:00\",\"informacaoComplementar\":\"\",\"processo\":\"119\",\"objetoCompra\":\"AQUISIÇÃO DE FARDAMENTOS ESPORTIVOS\",\"linkSistemaOrigem\":null,\"justificativaPresencial\":null,\"unidadeSubRogada\":null,\"valorTotalHomologado\":null,\"tipoInstrumentoConvocatorioCodigo\":1,\"tipoInstrumentoConvocatorioNome\":\"Edital\",\"situacaoCompraId\":1,\"situacaoCompraNome\":\"Divulgada no PNCP\",\"modoDisputaId\":1,\"numeroControlePNCP\":\"12264628000183-1-000059/2024\",\"valorTotalEstimado\":679085.1200,\"modalidadeNome\":\"Pregão - Eletrônico\",\"modoDisputaNome\":\"Aberto\",\"usuarioNome\":\"3Tecnos Tecnologia LTDA\"},{\"modalidadeId\":6,\"srp\":true,\"anoCompra\":2024,\"sequencialCompra\":6,\"orgaoSubRogado\":null,\"orgaoEntidade\":{\"cnpj\":\"12247755000174\",\"razaoSocial\":\"MUNICIPIO DE JACUIPE\",\"poderId\":\"N\",\"esferaId\":\"M\"},\"dataInclusao\":\"2024-06-26T16:27:54\",\"dataPublicacaoPncp\":\"2024-06-26T16:27:54\",\"dataAtualizacao\":\"2024-06-26T16:27:54\",\"numeroCompra\":\"04\",\"unidadeOrgao\":{\"ufNome\":\"Alagoas\",\"codigoUnidade\":\"1\",\"nomeUnidade\":\"PREFEITURA MUNICIPAL DE JACUIPE\",\"ufSigla\":\"AL\",\"municipioNome\":\"Jacuípe\",\"codigoIbge\":\"2703502\"},\"amparoLegal\":{\"codigo\":1,\"descricao\":\"pregão: modalidade de licitação obrigatória para aquisição de bens e serviços comuns\",\"nome\":\"Lei 14.133/2021, Art. 28, I\"},\"dataAberturaProposta\":\"2024-06-11T11:00:00\",\"dataEncerramentoProposta\":\"2024-07-09T09:00:00\",\"informacaoComplementar\":null,\"processo\":\"16/2024\",\"objetoCompra\":\"REGISTRO DE PREÇOS PARA FUTURA E EVENTUAL AQUISIÇÃO DE VEÍCULO TIPO VAN PASSAGEIRO. \",\"linkSistemaOrigem\":\"https://bnccompras.com/Process/ProcessView?param1=[gkz]9wYsRC/RwNnsIl5IJJ6JE_u150pdpL/wSF/Jf7jlyIcP84ot/KU_jJtV7jgVy5XQsnfRVrcZwFSzWD45ufos9qbhOJUBTSsYcrtnNr9lo5c=\",\"justificativaPresencial\":null,\"unidadeSubRogada\":null,\"valorTotalHomologado\":null,\"tipoInstrumentoConvocatorioCodigo\":1,\"tipoInstrumentoConvocatorioNome\":\"Edital\",\"situacaoCompraId\":1,\"situacaoCompraNome\":\"Divulgada no PNCP\",\"modoDisputaId\":1,\"numeroControlePNCP\":\"12247755000174-1-000006/2024\",\"valorTotalEstimado\":704768.6600,\"modalidadeNome\":\"Pregão - Eletrônico\",\"modoDisputaNome\":\"Aberto\",\"usuarioNome\":\"Bolsa Nacional De Compras - BNC\"},{\"modalidadeId\":6,\"srp\":true,\"anoCompra\":2024,\"sequencialCompra\":26,\"orgaoSubRogado\":null,\"orgaoEntidade\":{\"cnpj\":\"12265468000197\",\"razaoSocial\":\"MUNICIPIO DE JUNQUEIRO\",\"poderId\":\"N\",\"esferaId\":\"M\"},\"dataInclusao\":\"2024-06-26T16:32:14\",\"dataPublicacaoPncp\":\"2024-06-26T16:32:14\",\"dataAtualizacao\":\"2024-06-26T16:32:14\",\"numeroCompra\":\"026.2024\",\"unidadeOrgao\":{\"ufNome\":\"Alagoas\",\"codigoUnidade\":\"1\",\"nomeUnidade\":\"PREFEITURA MUNICIPAL DE JUNQUEIRO\",\"ufSigla\":\"AL\",\"municipioNome\":\"Junqueiro\",\"codigoIbge\":\"2704005\"},\"amparoLegal\":{\"codigo\":1,\"descricao\":\"pregão: modalidade de licitação obrigatória para aquisição de bens e serviços comuns\",\"nome\":\"Lei 14.133/2021, Art. 28, I\"},\"dataAberturaProposta\":\"2024-06-26T17:00:00\",\"dataEncerramentoProposta\":\"2024-07-23T09:30:00\",\"informacaoComplementar\":null,\"processo\":\"05030035/2024\",\"objetoCompra\":\"O objeto desta licitação é o registro de preços para eventual e futura aquisição de frango in natura para atender as necessidades das Secretarias Municipais, conforme especificações e quantitativos estabelecidos no Termo de Referência e neste Edital e seus Anexos.\",\"linkSistemaOrigem\":\"https://bnccompras.com/Process/ProcessView?param1=[gkz]tYzi6kgljFAD1KeXk4_xtNkHPs27mZOUzmMXZsp4xuPN6HPJnMHAGdgtkd3TXk64F_Lh7mVFAqH3LySL003zDkbosFJg3LdjxOQoaf82nq8=\",\"justificativaPresencial\":null,\"unidadeSubRogada\":null,\"valorTotalHomologado\":null,\"tipoInstrumentoConvocatorioCodigo\":1,\"tipoInstrumentoConvocatorioNome\":\"Edital\",\"situacaoCompraId\":1,\"situacaoCompraNome\":\"Divulgada no PNCP\",\"modoDisputaId\":1,\"numeroControlePNCP\":\"12265468000197-1-000026/2024\",\"valorTotalEstimado\":452529.2200,\"modalidadeNome\":\"Pregão - Eletrônico\",\"modoDisputaNome\":\"Aberto\",\"usuarioNome\":\"Bolsa Nacional De Compras - BNC\"}],\"totalRegistros\":18,\"totalPaginas\":1,\"numeroPagina\":1,\"paginasRestantes\":0,\"empty\":false}\n"
     ]
    }
   ],
   "source": [
    "# requisitando e criando o DF com os dados\n",
    "# Lista para armazenar todos os processos\n",
    "processos = []\n",
    "\n",
    "# Iterar sobre as URLs e realizar as requisições\n",
    "for url in urls:\n",
    "    response = requests.get(url)\n",
    "    if response.status_code == 200:\n",
    "        dados_dict = response.json()['data']  # Assumindo que 'data' contém os processos\n",
    "        \n",
    "        # Iterar sobre os processos retornados\n",
    "        for processo in dados_dict:\n",
    "            sequencial = processo['sequencialCompra']\n",
    "            orgao = processo['orgaoEntidade']['razaoSocial']\n",
    "            uf = processo['unidadeOrgao']['ufSigla']\n",
    "            inclusao = processo['dataInclusao']\n",
    "            amparo_legal = processo['amparoLegal']['descricao']\n",
    "            abertura = processo['dataAberturaProposta']\n",
    "            encerramento = processo['dataEncerramentoProposta']\n",
    "            n_processo = processo['processo']\n",
    "            objeto = processo['objetoCompra']\n",
    "            link = processo['linkSistemaOrigem']\n",
    "            valor_estimado = processo['valorTotalEstimado']\n",
    "            valor_homologado = processo['valorTotalHomologado']\n",
    "            disputa = processo['modoDisputaNome']\n",
    "            plataforma = processo['usuarioNome']\n",
    "            situacao = processo['situacaoCompraNome']\n",
    "            srp = processo['srp']\n",
    "            \n",
    "            # Adicionar os dados formatados à lista de processos\n",
    "            processos.append([\n",
    "                sequencial, orgao, uf, inclusao, amparo_legal, abertura, encerramento, n_processo, objeto, link,\n",
    "                valor_estimado, valor_homologado, disputa, plataforma, situacao, srp\n",
    "            ])\n",
    "    #else:\n",
    "        print(f\"Erro na requisição para {url}: {response.status_code} - {response.text}\")\n",
    "\n",
    "# Criar o DataFrame\n",
    "df = pd.DataFrame(processos, columns=[\n",
    "    'sequencial', 'orgao', 'uf', 'inclusao', 'amparo_legal', 'abertura', 'encerramento', 'n_processo', 'objeto', 'link',\n",
    "    'valor_estimado', 'valor_homologado', 'disputa', 'plataforma', 'situacao', 'srp'\n",
    "])"
   ]
  },
  {
   "cell_type": "code",
   "execution_count": null,
   "id": "2abcddc0",
   "metadata": {},
   "outputs": [],
   "source": [
    "print(dados_dict)"
   ]
  },
  {
   "cell_type": "code",
   "execution_count": null,
   "id": "0e819725",
   "metadata": {
    "scrolled": true
   },
   "outputs": [],
   "source": [
    "pd.set_option('display.max_rows', None)  \n",
    "\n",
    "df.head(1) \n",
    "df.shape"
   ]
  },
  {
   "cell_type": "code",
   "execution_count": null,
   "id": "fec8cc40",
   "metadata": {},
   "outputs": [],
   "source": [
    "# organizando os dados\n",
    "\n",
    "df['valor_estimado'] = pd.to_numeric(df['valor_estimado'], errors='coerce')\n",
    "\n",
    "# data formatada\n",
    "\n",
    "df['abertura'] = pd.to_datetime(df['abertura'], format='%Y-%m-%dT%H:%M:%S')\n",
    "df['inclusao'] = pd.to_datetime(df['inclusao'], format='%Y-%m-%dT%H:%M:%S')\n",
    "df['encerramento'] = pd.to_datetime(df['encerramento'], format='%Y-%m-%dT%H:%M:%S')"
   ]
  },
  {
   "cell_type": "code",
   "execution_count": null,
   "id": "fe01bb5a",
   "metadata": {},
   "outputs": [],
   "source": [
    "# filtrando pelas palavras de interesse \n",
    "\n",
    "palavras_chave = [\n",
    "    'alimentício', 'alimento'\n",
    "]\n",
    "\n",
    "palavras_chave = [palavra.lower() for palavra in palavras_chave]\n",
    "\n",
    "filtro = df['objeto'].str.lower().str.contains('|'.join(palavras_chave), na=False)\n",
    "\n",
    "df_filtrado = df[filtro].reset_index()"
   ]
  },
  {
   "cell_type": "code",
   "execution_count": null,
   "id": "e0601971",
   "metadata": {},
   "outputs": [],
   "source": [
    "df_filtrado[['objeto']]"
   ]
  },
  {
   "cell_type": "code",
   "execution_count": null,
   "id": "717444be",
   "metadata": {
    "scrolled": true
   },
   "outputs": [],
   "source": [
    "df_filtrado[['link']]"
   ]
  },
  {
   "cell_type": "markdown",
   "id": "f418ef89",
   "metadata": {},
   "source": [
    "### Estrutura do Arquivo Excel:\n",
    "* Pesquisa Geral: Contém todas as licitações encontradas na busca.\n",
    "* Pesquisa Filtrada: Apresenta as licitações filtradas por palavras-chave."
   ]
  },
  {
   "cell_type": "code",
   "execution_count": null,
   "id": "a171a498",
   "metadata": {},
   "outputs": [],
   "source": [
    "# salvar o arquivo no excel \n",
    "\n",
    "data_atual = datetime.now().strftime('%d_%m_%Y')\n",
    "\n",
    "nome_arquivo_excel = f'licitacoes_{data_atual}.xlsx'\n",
    "\n",
    "with pd.ExcelWriter(nome_arquivo_excel) as writer:\n",
    "    df.to_excel(writer, sheet_name='Todos', index=False)\n",
    "\n",
    "    df_filtrado.to_excel(writer, sheet_name='Filtrados', index=False)\n",
    "\n",
    "print(f'DataFrame salvo com sucesso em {nome_arquivo_excel}')"
   ]
  }
 ],
 "metadata": {
  "kernelspec": {
   "display_name": "Python 3 (ipykernel)",
   "language": "python",
   "name": "python3"
  },
  "language_info": {
   "codemirror_mode": {
    "name": "ipython",
    "version": 3
   },
   "file_extension": ".py",
   "mimetype": "text/x-python",
   "name": "python",
   "nbconvert_exporter": "python",
   "pygments_lexer": "ipython3",
   "version": "3.11.4"
  }
 },
 "nbformat": 4,
 "nbformat_minor": 5
}
